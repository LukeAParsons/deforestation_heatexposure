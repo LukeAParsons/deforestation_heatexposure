{
 "cells": [
  {
   "cell_type": "markdown",
   "metadata": {},
   "source": [
    "## load and process data for plotting PDFs of temperatures, hours lost in forested vs deforested locations"
   ]
  },
  {
   "cell_type": "markdown",
   "metadata": {},
   "source": [
    "### define data paths\n",
    "#### all data available on Zenodo at: 10.5281/zenodo.5707740"
   ]
  },
  {
   "cell_type": "code",
   "execution_count": 1,
   "metadata": {},
   "outputs": [],
   "source": [
    "data_path_biome     =    '/Users/lukeaparsons/Documents/Data/Observations/biome/'\n",
    "data_path_cover     =    '/Users/lukeaparsons/Documents/Data/Observations/Hansen/'\n",
    "data_path_temp      =    '/Users/lukeaparsons/Documents/Data/Observations/MODIS/three_hottest_months/'\n",
    "data_path_hours     =    '/Users/lukeaparsons/Documents/Data/Observations/MODIS/hours_lost/'\n",
    "data_path_warmed    =    '/Users/lukeaparsons/Documents/Data/Observations/MODIS/CMIP5_projection/'\n",
    "data_path_pop_gpw   =    '/Users/lukeaparsons/Documents/Data/Observations/population/GPW_pop/'\n"
   ]
  },
  {
   "cell_type": "code",
   "execution_count": 2,
   "metadata": {},
   "outputs": [],
   "source": [
    "# Import modules\n",
    "\n",
    "import warnings\n",
    "warnings.filterwarnings('ignore')\n",
    "import os\n",
    "import glob\n",
    "import numpy as np\n",
    "import xarray as xr\n",
    "import xesmf as xe\n",
    "from scipy import special #note this is used in Kjellstrom 2018 erf\n",
    "import time as tm\n",
    "from scipy.stats import norm\n",
    "from sklearn.neighbors import KernelDensity\n",
    "from sklearn.utils.fixes import parse_version\n",
    "\n",
    "import matplotlib.pyplot as plt\n",
    "import cartopy.crs as ccrs\n",
    "import cartopy.feature\n",
    "from cartopy.util import add_cyclic_point\n",
    "%matplotlib inline\n",
    "import cartopy.util as cutil\n",
    "import cartopy.crs as ccrs\n",
    "from cartopy.mpl.geoaxes import GeoAxes\n",
    "from cartopy.mpl.ticker import LongitudeFormatter, LatitudeFormatter\n",
    "from mpl_toolkits.axes_grid1 import AxesGrid\n",
    "from mpl_toolkits.basemap import Basemap, maskoceans\n",
    "import matplotlib.cm as cm\n",
    "import matplotlib as mpl"
   ]
  },
  {
   "cell_type": "code",
   "execution_count": 3,
   "metadata": {},
   "outputs": [],
   "source": [
    "## define hours lost cutoff etc for analysis\n",
    "HoursLost_Cutoff = 0 #set to 0.25 for plotting PDFs because so many tropical forest locations with no loss are zero\n",
    "\n",
    "CoverThreshold = 75 #set forest cover threshold to 75% for forested areas\n",
    "\n",
    "LossYearCutoff = 2003 #all loss must happen in or after this year bc this is when MODIS temperature obs start\n",
    "\n",
    "regions = ['Americas','Africa','Asia']\n",
    "\n",
    "years = ['2003','2018'] #years in analysis for looping through years to load data\n",
    "\n",
    "HoursLost_DifferencesThresholds = np.arange(0, 2.1, 0.1) #cutoffs for Figure 2 plots showing % land and % pop exposed to X hours lost\n"
   ]
  },
  {
   "cell_type": "markdown",
   "metadata": {},
   "source": [
    "## load biome data\n"
   ]
  },
  {
   "cell_type": "code",
   "execution_count": 4,
   "metadata": {},
   "outputs": [
    {
     "name": "stdout",
     "output_type": "stream",
     "text": [
      "Americas first lat is:  29.99583333065268 and first lon is:  -119.99583332255736\n",
      "shape of  Americas  is  (7200, 10320)\n",
      "Africa first lat is:  29.9958333306271 and first lon is:  -19.995833331537654\n",
      "shape of  Africa  is  (7200, 9600)\n",
      "Asia first lat is:  29.99583333065268 and first lon is:  60.004166661278134\n",
      "shape of  Asia  is  (7200, 14400)\n"
     ]
    }
   ],
   "source": [
    "for ri,region in enumerate(regions):\n",
    "    vars()[str(region)+'_bio'] = xr.open_dataset(data_path_biome + str(region) + '_biome_mask.nc')\n",
    "    if region == 'Americas':\n",
    "        vars()[str(region)+'_biome'] = vars()[str(region)+'_bio']['americas_biome_mask']\n",
    "    if region == 'Africa':\n",
    "        vars()[str(region)+'_biome'] = vars()[str(region)+'_bio']['Feature_shp1']\n",
    "    if region == 'Asia':\n",
    "        vars()[str(region)+'_biome'] = vars()[str(region)+'_bio']['Feature_shp3']\n",
    "        \n",
    "    #remove non-number locations, keep 1 where biome\n",
    "    vars()[str(region)+'_biome'].where(vars()[str(region)+'_biome'] == 1)\n",
    "    \n",
    "    print(region, 'first lat is: ',vars()[str(region)+'_biome'].lat[0].values, 'and first lon is: ',vars()[str(region)+'_biome'].lon[0].values)\n",
    "    print('shape of ', region,' is ', vars()[str(region)+'_biome'].shape)"
   ]
  },
  {
   "cell_type": "markdown",
   "metadata": {},
   "source": [
    "## load forest cover, loss, etc data\n"
   ]
  },
  {
   "cell_type": "code",
   "execution_count": 5,
   "metadata": {},
   "outputs": [
    {
     "name": "stdout",
     "output_type": "stream",
     "text": [
      "before reassignment,  Americas first lat is:  29.995833333333337 and first lon is:  -119.99583333333334\n",
      "before reassignment,  Americas first lat is:  29.995833333333337 and first lon is:  -119.99583333333334\n",
      "before reassignment,  Americas first lat is:  29.995833333333337 and first lon is:  -119.99583333333334\n",
      "shape of  Americas  is  (7200, 10320)\n",
      "before reassignment,  Africa first lat is:  29.995833333333337 and first lon is:  -19.995833333333337\n",
      "before reassignment,  Africa first lat is:  29.995833333333337 and first lon is:  -19.995833333333337\n",
      "before reassignment,  Africa first lat is:  29.995833333333337 and first lon is:  -19.995833333333337\n",
      "shape of  Africa  is  (7200, 9600)\n",
      "before reassignment,  Asia first lat is:  29.995833333333337 and first lon is:  60.00416666666667\n",
      "before reassignment,  Asia first lat is:  29.995833333333337 and first lon is:  60.00416666666667\n",
      "before reassignment,  Asia first lat is:  29.995833333333337 and first lon is:  60.00416666666667\n",
      "shape of  Asia  is  (7200, 14400)\n"
     ]
    }
   ],
   "source": [
    "\n",
    "for ri,region in enumerate(regions):\n",
    "    \n",
    "    #tree cover\n",
    "    vars()['TreeCover_' + str(region)] = xr.open_dataset(data_path_cover + str(region) + '_treecover.nc')\n",
    "    vars()['TreeCover_' + str(region)] = vars()['TreeCover_' + str(region)].rename({'Lon': 'lon','Lat': 'lat',})\n",
    "    vars()['TreeCover_' + str(region)] = vars()['TreeCover_' + str(region)].sortby('lat', ascending=False)\n",
    "    print('before reassignment, ',region, 'first lat is: ',vars()['TreeCover_' + str(region)].lat[0].values, 'and first lon is: ',vars()['TreeCover_' + str(region)].lon[0].values)\n",
    "    vars()['treecover_' + str(region)] = vars()['TreeCover_' + str(region)]['treecover']\n",
    "    vars()['treecover_' + str(region)] = vars()['treecover_' + str(region)].where(vars()['treecover_' + str(region)] > 0)\n",
    "    if region == 'Americas':\n",
    "        vars()['treecover_' + str(region)] = vars()['treecover_' + str(region)].where(vars()['treecover_' + str(region)]['lon'] <= vars()[str(region) + '_biome']['lon'].max(dim='lon'), drop = 'True')\n",
    "    #assign coordinates from biome mask\n",
    "    vars()['treecover_' + str(region)] = vars()['treecover_' + str(region)].assign_coords(lon = vars()[str(region)+'_biome'].lon, lat = vars()[str(region)+'_biome'].lat)\n",
    "    \n",
    "    vars()['LossYear_' + str(region)] = xr.open_dataset(data_path_cover + str(region) + '_lossyear.nc')\n",
    "    vars()['LossYear_' + str(region)] = vars()['LossYear_' + str(region)].rename({'Lon': 'lon','Lat': 'lat',})\n",
    "    vars()['LossYear_' + str(region)] = vars()['LossYear_' + str(region)].sortby('lat', ascending=False)\n",
    "    print('before reassignment, ',region, 'first lat is: ',vars()['LossYear_' + str(region)].lat[0].values, 'and first lon is: ',vars()['LossYear_' + str(region)].lon[0].values)\n",
    "    vars()['lossyear_' + str(region)] = vars()['LossYear_' + str(region)]['lossyear']\n",
    "    vars()['lossyear_' + str(region)] = vars()['lossyear_' + str(region)].where(vars()['lossyear_' + str(region)] > 0)\n",
    "    vars()['lossyear_' + str(region)] = vars()['lossyear_' + str(region)] + 2000\n",
    "    if region == 'Americas':\n",
    "        vars()['lossyear_' + str(region)] = vars()['lossyear_' + str(region)].where(vars()['lossyear_' + str(region)]['lon'] <= vars()[str(region) + '_biome']['lon'].max(dim='lon'), drop = 'True')\n",
    "    #assign coordinates from biome mask\n",
    "    vars()['lossyear_' + str(region)] = vars()['lossyear_' + str(region)].assign_coords(lon = vars()[str(region)+'_biome'].lon, lat = vars()[str(region)+'_biome'].lat)\n",
    "    \n",
    "    vars()['Gain_' + str(region)] = xr.open_dataset(data_path_cover + str(region) + '_gain.nc')\n",
    "    vars()['Gain_' + str(region)] = vars()['Gain_' + str(region)].rename({'Lon': 'lon','Lat': 'lat',})\n",
    "    vars()['Gain_' + str(region)] = vars()['Gain_' + str(region)].sortby('lat', ascending=False)\n",
    "    print('before reassignment, ',region, 'first lat is: ',vars()['Gain_' + str(region)].lat[0].values, 'and first lon is: ',vars()['Gain_' + str(region)].lon[0].values)\n",
    "    vars()['gain_' + str(region)] = vars()['Gain_'+str(region)]['gain']\n",
    "    vars()['gain_' + str(region)] = vars()['gain_' + str(region)].where(vars()['gain_' + str(region)] > 0)\n",
    "    #lop off dataset if lon goes beyond other dataset\n",
    "    if region == 'Americas':\n",
    "        vars()['gain_' + str(region)] = vars()['gain_' + str(region)].where(vars()['gain_' + str(region)]['lon'] <= vars()[str(region) + '_biome']['lon'].max(dim='lon'), drop = 'True')\n",
    "    #assign coordinates from biome mask\n",
    "    vars()['gain_' + str(region)] = vars()['gain_' + str(region)].assign_coords(lon = vars()[str(region)+'_biome'].lon, lat = vars()[str(region)+'_biome'].lat)\n",
    "\n",
    "    vars()['LON_Hansen_' + str(region)] = vars()['TreeCover_' + str(region)]['lon']\n",
    "    vars()['LAT_Hansen_' + str(region)] = vars()['TreeCover_' + str(region)]['lat']\n",
    "    \n",
    "    print('shape of ', region,' is ', vars()['lossyear_' + str(region)].shape)\n",
    "    "
   ]
  },
  {
   "cell_type": "markdown",
   "metadata": {},
   "source": [
    "## load 3 hottest months temperature data differences"
   ]
  },
  {
   "cell_type": "code",
   "execution_count": 6,
   "metadata": {},
   "outputs": [
    {
     "name": "stdout",
     "output_type": "stream",
     "text": [
      "before reassignment,  Americas first lat is:  29.995833330639627 and first lon is:  -119.99583332255736\n",
      "shape of  Americas  is  (7200, 10320)\n",
      "before reassignment,  Africa first lat is:  29.995833330639627 and first lon is:  -19.995833331537654\n",
      "shape of  Africa  is  (7200, 9600)\n",
      "before reassignment,  Asia first lat is:  29.995833330639627 and first lon is:  60.004166661278134\n",
      "shape of  Asia  is  (7200, 14400)\n"
     ]
    }
   ],
   "source": [
    "for ri,region in enumerate(regions):\n",
    "    vars()['temp_'+str(region)] = xr.open_dataset(data_path_temp + 'three_hottest_months_max_temp_' + str(region) + '_difference_2018_minus_2003.nc');\n",
    "    vars()['temp_'+str(region)] = vars()['temp_'+str(region)].rename({'Lon': 'lon','Lat': 'lat',})\n",
    "    print('before reassignment, ',str(region), 'first lat is: ',vars()['temp_'+str(region)].lat[0].values, 'and first lon is: ',vars()['temp_'+str(region)].lon[0].values)\n",
    "    vars()['temp_'+str(region)] = vars()['temp_'+str(region)].assign_coords(lon = vars()[str(region)+'_biome'].lon, lat = vars()[str(region)+'_biome'].lat)\n",
    "    \n",
    "    vars()['temp_diff_'+str(region)] = vars()['temp_'+str(region)]['temperature']\n",
    "\n",
    "    print('shape of ', region,' is ', vars()['temp_diff_'+str(region)].shape)"
   ]
  },
  {
   "cell_type": "markdown",
   "metadata": {},
   "source": [
    "##  load hours lost 2018-2003, subtract to calculate change in hours lost for all locations\n",
    "\n"
   ]
  },
  {
   "cell_type": "code",
   "execution_count": 7,
   "metadata": {},
   "outputs": [
    {
     "name": "stdout",
     "output_type": "stream",
     "text": [
      "before reassignment,  Americas first lat is:  29.995833330639627 and first lon is:  -119.99583332255736\n",
      "before reassignment,  Americas first lat is:  29.995833330639627 and first lon is:  -119.99583332255736\n",
      "shape of  Americas  is  (7200, 10320)\n",
      "before reassignment,  Africa first lat is:  29.995833330639627 and first lon is:  -19.995833331537654\n",
      "before reassignment,  Africa first lat is:  29.995833330639627 and first lon is:  -19.995833331537654\n",
      "shape of  Africa  is  (7200, 9600)\n",
      "before reassignment,  Asia first lat is:  29.995833330639627 and first lon is:  60.004166661278134\n",
      "before reassignment,  Asia first lat is:  29.995833330639627 and first lon is:  60.004166661278134\n",
      "shape of  Asia  is  (7200, 14400)\n"
     ]
    }
   ],
   "source": [
    "for ri,region in enumerate(regions):\n",
    "    vars()[str(region) + '_2003'] = xr.open_dataset(data_path_hours + 'hours_lost_' + str(region) + '_2003.nc', decode_times=False);\n",
    "    vars()[str(region) + '_2003'] = vars()[str(region) + '_2003'].rename({'Lon': 'lon','Lat': 'lat',})\n",
    "    print('before reassignment, ',region, 'first lat is: ',vars()[str(region) + '_2003'].lat[0].values, 'and first lon is: ',vars()[str(region) + '_2003'].lon[0].values)\n",
    "    vars()[str(region) + '_2003'] = vars()[str(region) + '_2003'].assign_coords(lon = vars()[str(region)+'_biome'].lon, lat = vars()[str(region)+'_biome'].lat)\n",
    "\n",
    "    vars()[str(region) + '_2018'] = xr.open_dataset(data_path_hours + 'hours_lost_' + str(region) + '_2018.nc', decode_times=False);\n",
    "    vars()[str(region) + '_2018'] = vars()[str(region) + '_2018'].rename({'Lon': 'lon','Lat': 'lat',})\n",
    "    print('before reassignment, ',region, 'first lat is: ',vars()[str(region) + '_2018'].lat[0].values, 'and first lon is: ',vars()[str(region) + '_2018'].lon[0].values)\n",
    "    vars()[str(region) + '_2018'] = vars()[str(region) + '_2018'].assign_coords(lon = vars()[str(region)+'_biome'].lon, lat = vars()[str(region)+'_biome'].lat)\n",
    "    \n",
    "    vars()['hours_lost_' + str(region) + '_2003'] = vars()[str(region) + '_2003']['hours_lost']\n",
    "    vars()['hours_lost_' + str(region) + '_2018'] = vars()[str(region) + '_2018']['hours_lost']\n",
    "    \n",
    "    vars()['hours_lost_difference_' + str(region)] = vars()['hours_lost_' + str(region) + '_2018'] - vars()['hours_lost_' + str(region) + '_2003']\n",
    "    \n",
    "    vars()['LON_MODIS_' + str(region)] = vars()[str(region) + '_2003']['lon']\n",
    "    vars()['LAT_MODIS_' + str(region)] = vars()[str(region) + '_2003']['lat']\n",
    "    \n",
    "    print('shape of ', region,' is ', vars()['hours_lost_difference_' + str(region)].shape)\n"
   ]
  },
  {
   "cell_type": "markdown",
   "metadata": {},
   "source": [
    "## load global warming projections of hours lost"
   ]
  },
  {
   "cell_type": "code",
   "execution_count": 8,
   "metadata": {
    "tags": []
   },
   "outputs": [
    {
     "name": "stdout",
     "output_type": "stream",
     "text": [
      "before reassignment,  Americas first lat is:  29.995833330639627 and first lon is:  -119.99583332255736\n",
      "shape of  Americas  is  (7200, 10320)\n",
      "before reassignment,  Americas first lat is:  29.995833330639627 and first lon is:  -119.99583332255736\n",
      "shape of  Americas  is  (7200, 10320)\n",
      "before reassignment,  Americas first lat is:  29.995833330639627 and first lon is:  -119.99583332255736\n",
      "shape of  Americas  is  (7200, 10320)\n",
      "before reassignment,  Africa first lat is:  29.995833330639627 and first lon is:  -19.995833331537654\n",
      "shape of  Africa  is  (7200, 9600)\n",
      "before reassignment,  Africa first lat is:  29.995833330639627 and first lon is:  -19.995833331537654\n",
      "shape of  Africa  is  (7200, 9600)\n",
      "before reassignment,  Africa first lat is:  29.995833330639627 and first lon is:  -19.995833331537654\n",
      "shape of  Africa  is  (7200, 9600)\n",
      "before reassignment,  Asia first lat is:  29.995833330639627 and first lon is:  60.004166661278134\n",
      "shape of  Asia  is  (7200, 14400)\n",
      "before reassignment,  Asia first lat is:  29.995833330639627 and first lon is:  60.004166661278134\n",
      "shape of  Asia  is  (7200, 14400)\n",
      "before reassignment,  Asia first lat is:  29.995833330639627 and first lon is:  60.004166661278134\n",
      "shape of  Asia  is  (7200, 14400)\n"
     ]
    }
   ],
   "source": [
    "gwfs = ['10','15','20']\n",
    "\n",
    "for ri,region in enumerate(regions):\n",
    "    \n",
    "    for gi,gwf in enumerate(gwfs):\n",
    "\n",
    "        vars()[str(region) + '_gwf'+str(gwf)] = xr.open_dataset(data_path_warmed + str(region) + '_hours_lost_gwf' + str(gwf) + '.nc')\n",
    "        vars()[str(region) + '_gwf'+str(gwf)] = vars()[str(region) + '_gwf'+str(gwf)].rename({'Lon': 'lon','Lat': 'lat',})\n",
    "        print('before reassignment, ',region, 'first lat is: ',vars()[str(region) + '_gwf'+str(gwf)].lat[0].values, 'and first lon is: ',vars()[str(region) + '_gwf'+str(gwf)].lon[0].values)\n",
    "        vars()[str(region) + '_gwf'+str(gwf)] = vars()[str(region) + '_gwf'+str(gwf)].assign_coords(lon = vars()[str(region)+'_biome'].lon, lat = vars()[str(region)+'_biome'].lat)\n",
    "        \n",
    "        vars()['hours_lost_' + str(region) + '_gwf' + str(gwf)] = vars()[str(region) + '_gwf'+str(gwf)]['temperature']\n",
    "        vars()['hours_lost_' + str(region) + '_gwf' + str(gwf)] = vars()['hours_lost_' + str(region) + '_gwf' + str(gwf)].where(vars()['hours_lost_' + str(region) + '_gwf' + str(gwf)] < 24)\n",
    "        vars()['hours_lost_' + str(region) + '_gwf' + str(gwf)] = vars()['hours_lost_' + str(region) + '_gwf' + str(gwf)].where(vars()['hours_lost_' + str(region) + '_gwf' + str(gwf)] > 0)\n",
    "        \n",
    "        #now mask data where less than the hours lost cutoff defined above\n",
    "        vars()['hours_lost_' + str(region) + '_gwf' + str(gwf)] = vars()['hours_lost_' + str(region) + '_gwf' + str(gwf)].where(vars()['hours_lost_' + str(region) + '_gwf' + str(gwf)] > HoursLost_Cutoff)\n",
    "        \n",
    "        print('shape of ', region,' is ', vars()['hours_lost_' + str(region) + '_gwf' + str(gwf)].shape)\n"
   ]
  },
  {
   "cell_type": "markdown",
   "metadata": {},
   "source": [
    "## load GPW population data"
   ]
  },
  {
   "cell_type": "code",
   "execution_count": 9,
   "metadata": {},
   "outputs": [
    {
     "name": "stdout",
     "output_type": "stream",
     "text": [
      "before reassignment,  Americas first lat is:  29.995833333333334 and first lon is:  -119.99583333333334\n",
      "shape of  Americas  is  (7200, 10320)\n",
      "before reassignment,  Africa first lat is:  29.995833333333334 and first lon is:  -19.995833333333334\n",
      "shape of  Africa  is  (7200, 9600)\n",
      "before reassignment,  Asia first lat is:  29.995833333333334 and first lon is:  60.00416666666667\n",
      "shape of  Asia  is  (7200, 14400)\n"
     ]
    }
   ],
   "source": [
    "for ri,region in enumerate(regions):\n",
    "\n",
    "    vars()['Pop_' + str(region)] = xr.open_dataset(data_path_pop_gpw + str(region) + '_gpw_pop_2015.nc')\n",
    "    vars()['Pop_' + str(region)] = vars()['Pop_' + str(region)].rename({'Longitude': 'lon','Latitude': 'lat',})\n",
    "    print('before reassignment, ',region, 'first lat is: ',vars()['Pop_' + str(region)].lat[0].values, 'and first lon is: ',vars()['Pop_' + str(region)].lon[0].values)\n",
    "    vars()['Pop_' + str(region)] = vars()['Pop_' + str(region)].assign_coords(lon = vars()[str(region)+'_biome'].lon, lat = vars()[str(region)+'_biome'].lat)\n",
    "    \n",
    "    vars()['population_' + str(region)] = vars()['Pop_' + str(region)]['population']\n",
    "    vars()['population_' + str(region)] = vars()['population_' + str(region)].where(vars()['population_' + str(region)] > 0)\n",
    "\n",
    "    print('shape of ', region,' is ', vars()['population_' + str(region)].shape)\n"
   ]
  },
  {
   "cell_type": "markdown",
   "metadata": {},
   "source": [
    "## define masks\n"
   ]
  },
  {
   "cell_type": "code",
   "execution_count": 10,
   "metadata": {},
   "outputs": [],
   "source": [
    "for ri,region in enumerate(regions):\n",
    "    \n",
    "    #mask where tree cover in 2000 doesn't meet threshold \n",
    "    vars()['mask_notreecover_' +str(region)] = vars()['treecover_' + str(region)].where(vars()['treecover_' + str(region)] >= CoverThreshold)\n",
    "    \n",
    "    #mask early loss year: mask where tree loss before cutoff year, keep where loss after cutoff year\n",
    "    vars()['mask_earlylossyear_' +str(region)] = vars()['lossyear_' + str(region)].where( vars()['lossyear_' + str(region)] >= LossYearCutoff)\n",
    "    \n",
    "    #define mask for where any tree loss in dataset (e.g., any number after 1999)\n",
    "    vars()['mask_anylosslocations_' +str(region)] = vars()['lossyear_' + str(region)].where( vars()['lossyear_' + str(region)] < 2000)    \n",
    "\n",
    "    #mask where no tree gain, 1 where any gain\n",
    "    vars()['mask_notreegain_'+str(region)] = vars()['gain_' + str(region)].where(vars()['gain_' + str(region)] > 0)\n",
    "\n",
    "    #mask where any tree gain, 1 where no gain\n",
    "    #vars()['mask_treegain_' + str(region)] = vars()['gain_' + str(region)].where((vars()['gain_' + str(region)] > 0))\n",
    "    \n",
    "    ## mask where tropical forest and where >75% hansen forest cover\n",
    "    vars()['mask_no_biome_noHansen75p_' + str(region)] = (vars()[str(region) + '_biome'].where(vars()['treecover_' + str(region)] >= CoverThreshold))\n",
    "\n",
    "    ## mask where tropical forest and where >75% hansen forest cover, also anywhere there is gain, multiply by 0\n",
    "    vars()['mask_no_biome_noHansen75p_nogain_' + str(region)] = vars()['mask_no_biome_noHansen75p_' + str(region)] * xr.ufuncs.isnan(vars()['gain_' + str(region)] )\n",
    "    "
   ]
  },
  {
   "cell_type": "code",
   "execution_count": 11,
   "metadata": {},
   "outputs": [],
   "source": [
    "# plot tester map of the area of interest region\n",
    "#vars()['mask_no_biome_noHansen75p_nogain_' + str(region)].where(vars()['mask_no_biome_noHansen75p_nogain_' + str(region)] > 0).plot()"
   ]
  },
  {
   "cell_type": "markdown",
   "metadata": {},
   "source": [
    "## mask hours lost 2003, 2018 based on if forest, kept, lost, gained for PDFs"
   ]
  },
  {
   "cell_type": "code",
   "execution_count": 12,
   "metadata": {},
   "outputs": [],
   "source": [
    "\n",
    "for ri,region in enumerate(regions):\n",
    "    \n",
    "    for yi,year in enumerate(years):\n",
    "        \n",
    "        #mask out where no tropical forest biome, where tree cover doesn't meet threshold\n",
    "        vars()[str(region) + '_forested_' + str(year)] = (\n",
    "            vars()['hours_lost_' + str(region) + '_' + str(year)].where(vars()['mask_no_biome_noHansen75p_'+str(region)] > 0))\n",
    "        \n",
    "        #mask out where no tropical forest biome, where tree cover doesn't meet threshold\n",
    "        #ALSO mask out where there is any loss (loss year is not nan)\n",
    "        vars()[str(region) + '_forested_noloss_' + str(year)] = (vars()['hours_lost_' + str(region) + '_' + str(year)].where(vars()['mask_no_biome_noHansen75p_'+str(region)] > 0)) * xr.ufuncs.isnan(vars()['lossyear_' + str(region)])\n",
    "\n",
    "        #mask out where no tropical forest biome, where tree cover doesn't meet threshold\n",
    "        #ALSO mask out where there is any gain (gain year is not nan), as well as if there is early loss before year cutoff\n",
    "        vars()[str(region) + '_forested_lost_nogain_' + str(year)] = (vars()['hours_lost_' + str(region) + '_' + str(year)].where(vars()['mask_no_biome_noHansen75p_'+str(region)] > 0)\n",
    "                                                             * xr.ufuncs.isnan(vars()['gain_' + str(region)] ).where( vars()['lossyear_' + str(region)] >= LossYearCutoff) )\n",
    "\n",
    "        #mask out where no tropical forest biome, where tree cover doesn't meet threshold\n",
    "        #ALSO mask out where there is any gain (gain year is not nan), as well as if there is early loss before year cutoff        \n",
    "        vars()[str(region) + '_forested_gained_nolost_' + str(year)] = (vars()['hours_lost_' + str(region) + '_' + str(year)].where(vars()['mask_no_biome_noHansen75p_'+str(region)] > 0)).where(vars()['gain_' + str(region)] > 0) * xr.ufuncs.isnan(vars()['lossyear_' + str(region)])\n",
    "    "
   ]
  },
  {
   "cell_type": "markdown",
   "metadata": {},
   "source": [
    "## mask temperature changes based on if forest, kept, lost, gained for histograms\n"
   ]
  },
  {
   "cell_type": "code",
   "execution_count": 13,
   "metadata": {},
   "outputs": [],
   "source": [
    "for ri,region in enumerate(regions):   \n",
    "    \n",
    "    #mask out where no tropical forest biome, where tree cover doesn't meet threshold   \n",
    "    vars()[str(region) + '_T_forested'] = (\n",
    "            vars()['temp_diff_'+str(region)].where(vars()['mask_no_biome_noHansen75p_'+str(region)] > 0))   \n",
    "    \n",
    "    #mask out where no tropical forest biome, where tree cover doesn't meet threshold\n",
    "    #ALSO mask out where there is any loss (loss year is not nan)\n",
    "    vars()[str(region) + '_T_forested_noloss'] = (vars()['temp_diff_'+str(region)]\n",
    "                                                               .where(vars()['mask_no_biome_noHansen75p_'+str(region)] > 0)) * xr.ufuncs.isnan(vars()['lossyear_' + str(region)])\n",
    "    #mask out where no tropical forest biome, where tree cover doesn't meet threshold\n",
    "    #ALSO mask out where there is any gain (gain year is not nan), as well as if there is early loss before year cutoff\n",
    "    vars()[str(region) + '_T_forested_lost_nogain'] = (vars()['temp_diff_'+str(region)]\n",
    "                                                                    .where(vars()['mask_no_biome_noHansen75p_'+str(region)] > 0)\n",
    "                                                         * xr.ufuncs.isnan(vars()['gain_' + str(region)] ).where( vars()['lossyear_' + str(region)] >= LossYearCutoff) )\n",
    "\n",
    "    #mask out where no tropical forest biome, where tree cover doesn't meet threshold\n",
    "    #ALSO mask out where there is any gain (gain year is not nan), as well as if there is early loss before year cutoff        \n",
    "    vars()[str(region) + '_T_forested_gained_nolost'] = (vars()['temp_diff_'+str(region)]\n",
    "                                                                      .where(vars()['mask_no_biome_noHansen75p_'+str(region)] > 0)).where(vars()['gain_' + str(region)] > 0) * xr.ufuncs.isnan(vars()['lossyear_' + str(region)])\n"
   ]
  },
  {
   "cell_type": "markdown",
   "metadata": {},
   "source": [
    "## now create variable for hours lost difference between the years: differences in hours lost in forested vs deforested areas"
   ]
  },
  {
   "cell_type": "code",
   "execution_count": 14,
   "metadata": {},
   "outputs": [],
   "source": [
    "for ri,region in enumerate(regions):\n",
    "    vars()[str(region) + '_forested'] = vars()[str(region) + '_forested_2018'] - vars()[str(region) + '_forested_2003']\n",
    "    vars()[str(region) + '_forested_noloss'] = vars()[str(region) + '_forested_noloss_2018'] - vars()[str(region) + '_forested_noloss_2003']\n",
    "    vars()[str(region) + '_forested_lost_nogain'] = vars()[str(region) + '_forested_lost_nogain_2018'] - vars()[str(region) + '_forested_lost_nogain_2003']\n",
    "    vars()[str(region) + '_forested_gained_nolost'] = vars()[str(region) + '_forested_gained_nolost_2018'] - vars()[str(region) + '_forested_gained_nolost_2003']\n",
    "  \n"
   ]
  },
  {
   "cell_type": "markdown",
   "metadata": {},
   "source": [
    "## mask population based on where forest, no forest, gain etc"
   ]
  },
  {
   "cell_type": "code",
   "execution_count": 15,
   "metadata": {},
   "outputs": [
    {
     "name": "stdout",
     "output_type": "stream",
     "text": [
      "total number of people in  Americas  in forested, no loss locations:  51.799376  million\n",
      "total number of people in  Americas  in LOSS locations:  6.790996032033051  million\n",
      "total number of people in  Africa  in forested, no loss locations:  25.789838  million\n",
      "total number of people in  Africa  in LOSS locations:  3.583562378469158  million\n",
      "total number of people in  Asia  in forested, no loss locations:  168.138896  million\n",
      "total number of people in  Asia  in LOSS locations:  26.30033948828728  million\n"
     ]
    }
   ],
   "source": [
    "for ri,region in enumerate(regions):\n",
    "    vars()['population_'+str(region)+'_noloss'] = (vars()['population_'+str(region)]\n",
    "                                                   .where(vars()['mask_no_biome_noHansen75p_'+str(region)] > 0)) * xr.ufuncs.isnan(vars()['lossyear_' + str(region)])\n",
    "    vars()['population_'+str(region)+'_lost_nogain'] = (vars()['population_'+str(region)]\n",
    "                                                        .where(vars()['mask_no_biome_noHansen75p_'+str(region)] > 0)\n",
    "                                                             * xr.ufuncs.isnan(vars()['gain_' + str(region)] )\n",
    "                                                        .where( vars()['lossyear_' + str(region)] >= LossYearCutoff) )\n",
    "    \n",
    "    print('total number of people in ',region,' in forested, no loss locations: ', vars()['population_'+str(region)+'_noloss'].sum(dim=('lon','lat')).values/1e6,' million')\n",
    "    print('total number of people in ',region,' in LOSS locations: ', vars()['population_'+str(region)+'_lost_nogain'].sum(dim=('lon','lat')).values/1e6,' million')\n"
   ]
  },
  {
   "cell_type": "markdown",
   "metadata": {},
   "source": [
    "## calculate % pixels/locations/land area in deforested vs forested areas exposed to > X hours lost"
   ]
  },
  {
   "cell_type": "code",
   "execution_count": 16,
   "metadata": {},
   "outputs": [],
   "source": [
    "\n",
    "for ri,region in enumerate(regions):\n",
    "\n",
    "    vars()[str(region)+'_Land_HoursLost_Exposed_Percent_noloss'] = np.zeros(np.shape(HoursLost_DifferencesThresholds))\n",
    "    vars()[str(region)+'_Land_HoursLost_Exposed_Percent_lost_nogain'] = np.zeros(np.shape(HoursLost_DifferencesThresholds))\n",
    "\n",
    "    for i,hi in enumerate(HoursLost_DifferencesThresholds):\n",
    "\n",
    "\n",
    "        forest_land_count_threshold = (vars()[str(region) + '_forested_noloss']\n",
    "                             .where(vars()['hours_lost_difference_' + str(region)] > HoursLost_DifferencesThresholds[i] , drop = True)\n",
    "                             .count(dim=('lon','lat'))).values\n",
    "\n",
    "        forest_land_count_all = ((vars()['mask_no_biome_noHansen75p_nogain_' + str(region)]\n",
    "                               .where(vars()['mask_no_biome_noHansen75p_nogain_' + str(region)] > 0, drop = True)\n",
    "                               #.where( vars()[str(region) + '_forested_noloss'] > 0 , drop = True)\n",
    "                               .count(dim=('lon','lat')))).values\n",
    "        \n",
    "        vars()[str(region)+'_Land_HoursLost_Exposed_Percent_noloss'][i] = (forest_land_count_threshold/ forest_land_count_all) * 100\n",
    "\n",
    "        lost_land_count_threshold = (vars()[str(region) + '_forested_lost_nogain']\n",
    "                                     .where(vars()['hours_lost_difference_' + str(region)] > HoursLost_DifferencesThresholds[i] , drop = True)\n",
    "                                     .count(dim=('lon','lat'))).values\n",
    "\n",
    "        lost_land_count_all = ((vars()['mask_no_biome_noHansen75p_nogain_' + str(region)]\n",
    "                               .where(vars()['mask_no_biome_noHansen75p_nogain_' + str(region)] > 0, drop = True)\n",
    "                               .where( vars()['lossyear_' + str(region)] >= LossYearCutoff )\n",
    "                               .count(dim=('lon','lat')))).values\n",
    "        \n",
    "        vars()[str(region)+'_Land_HoursLost_Exposed_Percent_lost_nogain'][i] = (lost_land_count_threshold/ lost_land_count_all) * 100\n"
   ]
  },
  {
   "cell_type": "markdown",
   "metadata": {},
   "source": [
    "## calculate % population in deforested vs forested areas exposed to > X hours lost"
   ]
  },
  {
   "cell_type": "code",
   "execution_count": 17,
   "metadata": {},
   "outputs": [],
   "source": [
    "\n",
    "for ri,region in enumerate(regions):\n",
    "\n",
    "    vars()[str(region)+'_Pop_HoursLost_Exposed_Percent_noloss'] = np.zeros(np.shape(HoursLost_DifferencesThresholds))\n",
    "    vars()[str(region)+'_Pop_HoursLost_Exposed_Percent_lost_nogain'] = np.zeros(np.shape(HoursLost_DifferencesThresholds))\n",
    "\n",
    "    for i,hi in enumerate(HoursLost_DifferencesThresholds):\n",
    "\n",
    "        vars()[str(region)+'_Pop_HoursLost_Exposed_Percent_noloss'][i] = ((vars()['population_'+str(region)+'_noloss']\n",
    "                                                                     .where(vars()['hours_lost_difference_' + str(region)] > HoursLost_DifferencesThresholds[i])\n",
    "                                                                     ).sum(dim=('lat','lon')) / vars()['population_'+str(region)+'_noloss'].sum(dim=('lat','lon')) ) * 100\n",
    "\n",
    "\n",
    "        vars()[str(region)+'_Pop_HoursLost_Exposed_Percent_lost_nogain'][i] = ((vars()['population_'+str(region)+'_lost_nogain']\n",
    "                                                                     .where(vars()['hours_lost_difference_' + str(region)] > HoursLost_DifferencesThresholds[i])\n",
    "                                                                     ).sum(dim=('lat','lon')) / vars()['population_'+str(region)+'_lost_nogain'].sum(dim=('lat','lon')) ) * 100\n"
   ]
  },
  {
   "cell_type": "markdown",
   "metadata": {},
   "source": [
    "## plot the % land pixels in deforested vs forested areas exposed to > X hours lost: Figure 2a\n"
   ]
  },
  {
   "cell_type": "code",
   "execution_count": 18,
   "metadata": {},
   "outputs": [
    {
     "data": {
      "image/png": "[encoded data removed]",
      "text/plain": [
       "<Figure size 864x288 with 3 Axes>"
      ]
     },
     "metadata": {
      "needs_background": "light"
     },
     "output_type": "display_data"
    }
   ],
   "source": [
    "#Figure 2a\n",
    "\n",
    "fsize = 16\n",
    "lwidth = 3\n",
    "\n",
    "\n",
    "fig = plt.figure(figsize=(12,4))\n",
    "\n",
    "for ri,region in enumerate(regions):\n",
    "    ax = plt.subplot(1,3,ri+1)\n",
    "\n",
    "    if ri == 1:\n",
    "        plt.plot(HoursLost_DifferencesThresholds,vars()[str(region)+'_Land_HoursLost_Exposed_Percent_noloss'], linewidth = lwidth, color=\"darkgrey\",label='Kept Forest')\n",
    "        plt.plot(HoursLost_DifferencesThresholds,vars()[str(region)+'_Land_HoursLost_Exposed_Percent_lost_nogain'],linestyle='--', linewidth = lwidth, color=\"darkred\",label='Lost Forest')\n",
    "        plt.legend(loc = 'upper right', fontsize=fsize-2)\n",
    "    else:\n",
    "        plt.plot(HoursLost_DifferencesThresholds,vars()[str(region)+'_Land_HoursLost_Exposed_Percent_noloss'], linewidth = lwidth, color=\"darkgrey\",label='Kept Forest')\n",
    "        plt.plot(HoursLost_DifferencesThresholds,vars()[str(region)+'_Land_HoursLost_Exposed_Percent_lost_nogain'],linestyle='--', linewidth = lwidth, color=\"darkred\",label='Lost Forest')\n",
    "\n",
    "    plt.ylim([0, 80])\n",
    "    plt.xlim([0, 2])\n",
    "    plt.xticks(fontsize=fsize)\n",
    "    plt.yticks(fontsize=fsize)\n",
    "    plt.xlabel('$\\Delta$ Hours Lost',fontsize=fsize)\n",
    "    plt.title(region,fontsize=fsize)\n",
    "    if ri == 0:\n",
    "        plt.ylabel('Area Exposed (%)',fontsize=fsize)\n",
    "    \n",
    "    for axis in ['top','bottom','left','right']:\n",
    "        ax.spines[axis].set_linewidth(1.5)\n",
    "        \n",
    "plt.tight_layout()\n",
    "\n",
    "plt.savefig('Figure2a_LandPercent_ChangeInHoursLost.tiff', format='tiff')"
   ]
  },
  {
   "cell_type": "markdown",
   "metadata": {},
   "source": [
    "## plot the % population in deforested vs forested areas exposed to > X hours lost: Figure 2b"
   ]
  },
  {
   "cell_type": "code",
   "execution_count": 19,
   "metadata": {},
   "outputs": [
    {
     "data": {
      "image/png": "[encoded data removed]",
      "text/plain": [
       "<Figure size 864x288 with 3 Axes>"
      ]
     },
     "metadata": {
      "needs_background": "light"
     },
     "output_type": "display_data"
    }
   ],
   "source": [
    "#Figure 2b\n",
    "\n",
    "fsize = 16\n",
    "lwidth = 3\n",
    "\n",
    "\n",
    "fig = plt.figure(figsize=(12,4))\n",
    "\n",
    "for ri,region in enumerate(regions):\n",
    "    ax = plt.subplot(1,3,ri+1)\n",
    "\n",
    "    if ri == 1:\n",
    "        plt.plot(HoursLost_DifferencesThresholds,vars()[str(region)+'_Pop_HoursLost_Exposed_Percent_noloss'], linewidth = lwidth, color=\"darkgrey\",label='Kept Forest')\n",
    "        plt.plot(HoursLost_DifferencesThresholds,vars()[str(region)+'_Pop_HoursLost_Exposed_Percent_lost_nogain'],linestyle='--', linewidth = lwidth, color=\"darkred\",label='Lost Forest')\n",
    "        plt.legend(loc = 'upper right', fontsize=fsize-2)\n",
    "    else:\n",
    "        plt.plot(HoursLost_DifferencesThresholds,vars()[str(region)+'_Pop_HoursLost_Exposed_Percent_noloss'], linewidth = lwidth, color=\"darkgrey\",label='Kept Forest')\n",
    "        plt.plot(HoursLost_DifferencesThresholds,vars()[str(region)+'_Pop_HoursLost_Exposed_Percent_lost_nogain'],linestyle='--', linewidth = lwidth, color=\"darkred\",label='Lost Forest')\n",
    "\n",
    "    plt.ylim([0, 65])\n",
    "    plt.xlim([0, 2])\n",
    "    plt.xticks(fontsize=fsize)\n",
    "    plt.yticks(fontsize=fsize)\n",
    "    plt.xlabel('$\\Delta$ Hours Lost',fontsize=fsize)\n",
    "    plt.title(region,fontsize=fsize)\n",
    "    if ri == 0:\n",
    "        plt.ylabel('Population (%)',fontsize=fsize)\n",
    "    \n",
    "    for axis in ['top','bottom','left','right']:\n",
    "        ax.spines[axis].set_linewidth(1.5)\n",
    "        \n",
    "plt.tight_layout()\n",
    "\n",
    "plt.savefig('Figure2b_PopulationPercent_ChangeInHoursLost.tiff', format='tiff')"
   ]
  },
  {
   "cell_type": "code",
   "execution_count": null,
   "metadata": {},
   "outputs": [],
   "source": []
  }
 ],
 "metadata": {
  "kernelspec": {
   "display_name": "Python (deforestation)",
   "language": "python",
   "name": "deforestation"
  },
  "language_info": {
   "codemirror_mode": {
    "name": "ipython",
    "version": 3
   },
   "file_extension": ".py",
   "mimetype": "text/x-python",
   "name": "python",
   "nbconvert_exporter": "python",
   "pygments_lexer": "ipython3",
   "version": "3.9.7"
  }
 },
 "nbformat": 4,
 "nbformat_minor": 4
}
